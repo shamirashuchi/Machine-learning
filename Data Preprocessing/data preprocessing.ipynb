{
 "cells": [
  {
   "cell_type": "markdown",
   "id": "183db6f0",
   "metadata": {},
   "source": [
    "<font size=\"7\">Data preprocessing</font>"
   ]
  },
  {
   "cell_type": "markdown",
   "id": "ee6740c1",
   "metadata": {},
   "source": [
    "<font size=\"5\">Importing libraries</font>"
   ]
  },
  {
   "cell_type": "code",
   "execution_count": 99,
   "id": "df44c5ac",
   "metadata": {},
   "outputs": [],
   "source": [
    "import numpy as np\n",
    "import matplotlib as plt\n",
    "import pandas as pd"
   ]
  },
  {
   "cell_type": "markdown",
   "id": "43c09ad0",
   "metadata": {},
   "source": [
    "<font size=\"5\">Imporing  the dataset</font>"
   ]
  },
  {
   "cell_type": "code",
   "execution_count": 100,
   "id": "489560df",
   "metadata": {},
   "outputs": [
    {
     "data": {
      "text/html": [
       "<div>\n",
       "<style scoped>\n",
       "    .dataframe tbody tr th:only-of-type {\n",
       "        vertical-align: middle;\n",
       "    }\n",
       "\n",
       "    .dataframe tbody tr th {\n",
       "        vertical-align: top;\n",
       "    }\n",
       "\n",
       "    .dataframe thead th {\n",
       "        text-align: right;\n",
       "    }\n",
       "</style>\n",
       "<table border=\"1\" class=\"dataframe\">\n",
       "  <thead>\n",
       "    <tr style=\"text-align: right;\">\n",
       "      <th></th>\n",
       "      <th>Country</th>\n",
       "      <th>Age</th>\n",
       "      <th>Salary</th>\n",
       "      <th>Purchased</th>\n",
       "    </tr>\n",
       "  </thead>\n",
       "  <tbody>\n",
       "    <tr>\n",
       "      <th>0</th>\n",
       "      <td>France</td>\n",
       "      <td>44.000000</td>\n",
       "      <td>72000.00000</td>\n",
       "      <td>No</td>\n",
       "    </tr>\n",
       "    <tr>\n",
       "      <th>1</th>\n",
       "      <td>Spain</td>\n",
       "      <td>27.000000</td>\n",
       "      <td>48000.00000</td>\n",
       "      <td>Yes</td>\n",
       "    </tr>\n",
       "    <tr>\n",
       "      <th>2</th>\n",
       "      <td>Germany</td>\n",
       "      <td>30.000000</td>\n",
       "      <td>54000.00000</td>\n",
       "      <td>No</td>\n",
       "    </tr>\n",
       "    <tr>\n",
       "      <th>3</th>\n",
       "      <td>Spain</td>\n",
       "      <td>38.000000</td>\n",
       "      <td>61000.00000</td>\n",
       "      <td>No</td>\n",
       "    </tr>\n",
       "    <tr>\n",
       "      <th>4</th>\n",
       "      <td>Germany</td>\n",
       "      <td>40.000000</td>\n",
       "      <td>63777.77778</td>\n",
       "      <td>Yes</td>\n",
       "    </tr>\n",
       "    <tr>\n",
       "      <th>5</th>\n",
       "      <td>France</td>\n",
       "      <td>35.000000</td>\n",
       "      <td>58000.00000</td>\n",
       "      <td>Yes</td>\n",
       "    </tr>\n",
       "    <tr>\n",
       "      <th>6</th>\n",
       "      <td>Spain</td>\n",
       "      <td>38.777778</td>\n",
       "      <td>52000.00000</td>\n",
       "      <td>No</td>\n",
       "    </tr>\n",
       "    <tr>\n",
       "      <th>7</th>\n",
       "      <td>France</td>\n",
       "      <td>48.000000</td>\n",
       "      <td>79000.00000</td>\n",
       "      <td>Yes</td>\n",
       "    </tr>\n",
       "    <tr>\n",
       "      <th>8</th>\n",
       "      <td>Germany</td>\n",
       "      <td>50.000000</td>\n",
       "      <td>83000.00000</td>\n",
       "      <td>No</td>\n",
       "    </tr>\n",
       "    <tr>\n",
       "      <th>9</th>\n",
       "      <td>France</td>\n",
       "      <td>37.000000</td>\n",
       "      <td>67000.00000</td>\n",
       "      <td>Yes</td>\n",
       "    </tr>\n",
       "  </tbody>\n",
       "</table>\n",
       "</div>"
      ],
      "text/plain": [
       "   Country        Age       Salary Purchased\n",
       "0   France  44.000000  72000.00000        No\n",
       "1    Spain  27.000000  48000.00000       Yes\n",
       "2  Germany  30.000000  54000.00000        No\n",
       "3    Spain  38.000000  61000.00000        No\n",
       "4  Germany  40.000000  63777.77778       Yes\n",
       "5   France  35.000000  58000.00000       Yes\n",
       "6    Spain  38.777778  52000.00000        No\n",
       "7   France  48.000000  79000.00000       Yes\n",
       "8  Germany  50.000000  83000.00000        No\n",
       "9   France  37.000000  67000.00000       Yes"
      ]
     },
     "execution_count": 100,
     "metadata": {},
     "output_type": "execute_result"
    }
   ],
   "source": [
    "Dataset=pd.read_csv('Data.csv')\n",
    "Dataset.head(10)"
   ]
  },
  {
   "cell_type": "code",
   "execution_count": 101,
   "id": "5621bb85",
   "metadata": {},
   "outputs": [
    {
     "name": "stdout",
     "output_type": "stream",
     "text": [
      "[['France' 44.0 72000.0]\n",
      " ['Spain' 27.0 48000.0]\n",
      " ['Germany' 30.0 54000.0]\n",
      " ['Spain' 38.0 61000.0]\n",
      " ['Germany' 40.0 63777.77778]\n",
      " ['France' 35.0 58000.0]\n",
      " ['Spain' 38.77777778 52000.0]\n",
      " ['France' 48.0 79000.0]\n",
      " ['Germany' 50.0 83000.0]\n",
      " ['France' 37.0 67000.0]]\n"
     ]
    }
   ],
   "source": [
    "C=Dataset.iloc[:, :-1].values\n",
    "print(C)"
   ]
  },
  {
   "cell_type": "code",
   "execution_count": 102,
   "id": "9500b2be",
   "metadata": {},
   "outputs": [
    {
     "name": "stdout",
     "output_type": "stream",
     "text": [
      "   Country        Age       Salary\n",
      "0   France  44.000000  72000.00000\n",
      "1    Spain  27.000000  48000.00000\n",
      "2  Germany  30.000000  54000.00000\n",
      "3    Spain  38.000000  61000.00000\n",
      "4  Germany  40.000000  63777.77778\n",
      "5   France  35.000000  58000.00000\n",
      "6    Spain  38.777778  52000.00000\n",
      "7   France  48.000000  79000.00000\n",
      "8  Germany  50.000000  83000.00000\n",
      "9   France  37.000000  67000.00000\n"
     ]
    }
   ],
   "source": [
    "C=Dataset.iloc[:, :-1]\n",
    "print(C)"
   ]
  },
  {
   "cell_type": "code",
   "execution_count": 103,
   "id": "362358b2",
   "metadata": {},
   "outputs": [
    {
     "name": "stdout",
     "output_type": "stream",
     "text": [
      "   Country        Age       Salary Purchased\n",
      "0   France  44.000000  72000.00000        No\n",
      "1    Spain  27.000000  48000.00000       Yes\n",
      "2  Germany  30.000000  54000.00000        No\n",
      "3    Spain  38.000000  61000.00000        No\n",
      "4  Germany  40.000000  63777.77778       Yes\n",
      "5   France  35.000000  58000.00000       Yes\n",
      "6    Spain  38.777778  52000.00000        No\n",
      "7   France  48.000000  79000.00000       Yes\n",
      "8  Germany  50.000000  83000.00000        No\n"
     ]
    }
   ],
   "source": [
    "C=Dataset.iloc[:-1, :]\n",
    "print(C)"
   ]
  },
  {
   "cell_type": "code",
   "execution_count": 104,
   "id": "880587f3",
   "metadata": {},
   "outputs": [
    {
     "name": "stdout",
     "output_type": "stream",
     "text": [
      "   Country        Age       Salary\n",
      "0   France  44.000000  72000.00000\n",
      "1    Spain  27.000000  48000.00000\n",
      "2  Germany  30.000000  54000.00000\n",
      "3    Spain  38.000000  61000.00000\n",
      "4  Germany  40.000000  63777.77778\n",
      "5   France  35.000000  58000.00000\n",
      "6    Spain  38.777778  52000.00000\n",
      "7   France  48.000000  79000.00000\n",
      "8  Germany  50.000000  83000.00000\n"
     ]
    }
   ],
   "source": [
    "C=Dataset.iloc[:-1, :-1]\n",
    "print(C)"
   ]
  },
  {
   "cell_type": "code",
   "execution_count": 105,
   "id": "f34b9fb4",
   "metadata": {},
   "outputs": [
    {
     "name": "stdout",
     "output_type": "stream",
     "text": [
      "Empty DataFrame\n",
      "Columns: []\n",
      "Index: []\n"
     ]
    }
   ],
   "source": [
    "C=Dataset.iloc[:0, :0]\n",
    "print(C)"
   ]
  },
  {
   "cell_type": "code",
   "execution_count": 106,
   "id": "081859b8",
   "metadata": {},
   "outputs": [
    {
     "name": "stdout",
     "output_type": "stream",
     "text": [
      "Empty DataFrame\n",
      "Columns: [Country]\n",
      "Index: []\n"
     ]
    }
   ],
   "source": [
    "C=Dataset.iloc[:0, :1]\n",
    "print(C)"
   ]
  },
  {
   "cell_type": "code",
   "execution_count": 107,
   "id": "db31d2fb",
   "metadata": {},
   "outputs": [
    {
     "name": "stdout",
     "output_type": "stream",
     "text": [
      "Empty DataFrame\n",
      "Columns: []\n",
      "Index: [0]\n"
     ]
    }
   ],
   "source": [
    "C=Dataset.iloc[:1, :0]\n",
    "print(C)"
   ]
  },
  {
   "cell_type": "code",
   "execution_count": 108,
   "id": "899afe2e",
   "metadata": {},
   "outputs": [
    {
     "name": "stdout",
     "output_type": "stream",
     "text": [
      "  Country\n",
      "0  France\n"
     ]
    }
   ],
   "source": [
    "C=Dataset.iloc[:1, :1]\n",
    "print(C)"
   ]
  },
  {
   "cell_type": "code",
   "execution_count": 109,
   "id": "09721d2e",
   "metadata": {},
   "outputs": [
    {
     "name": "stdout",
     "output_type": "stream",
     "text": [
      "   Country        Age       Salary Purchased\n",
      "0   France  44.000000  72000.00000        No\n",
      "1    Spain  27.000000  48000.00000       Yes\n",
      "2  Germany  30.000000  54000.00000        No\n",
      "3    Spain  38.000000  61000.00000        No\n",
      "4  Germany  40.000000  63777.77778       Yes\n",
      "5   France  35.000000  58000.00000       Yes\n",
      "6    Spain  38.777778  52000.00000        No\n",
      "7   France  48.000000  79000.00000       Yes\n",
      "8  Germany  50.000000  83000.00000        No\n",
      "9   France  37.000000  67000.00000       Yes\n"
     ]
    }
   ],
   "source": [
    "C=Dataset.iloc[:10, :4]\n",
    "print(C)"
   ]
  },
  {
   "cell_type": "code",
   "execution_count": 110,
   "id": "301a97f8",
   "metadata": {},
   "outputs": [
    {
     "name": "stdout",
     "output_type": "stream",
     "text": [
      "   Country        Age\n",
      "0   France  44.000000\n",
      "1    Spain  27.000000\n",
      "2  Germany  30.000000\n",
      "3    Spain  38.000000\n",
      "4  Germany  40.000000\n",
      "5   France  35.000000\n",
      "6    Spain  38.777778\n",
      "7   France  48.000000\n"
     ]
    }
   ],
   "source": [
    "C=Dataset.iloc[:-2, :-2]\n",
    "print(C)"
   ]
  },
  {
   "cell_type": "code",
   "execution_count": 111,
   "id": "7b9172de",
   "metadata": {},
   "outputs": [
    {
     "name": "stdout",
     "output_type": "stream",
     "text": [
      "   Country        Age\n",
      "0   France  44.000000\n",
      "1    Spain  27.000000\n",
      "2  Germany  30.000000\n",
      "3    Spain  38.000000\n",
      "4  Germany  40.000000\n",
      "5   France  35.000000\n",
      "6    Spain  38.777778\n"
     ]
    }
   ],
   "source": [
    "C=Dataset.iloc[:-3, :-2]\n",
    "print(C)"
   ]
  },
  {
   "cell_type": "code",
   "execution_count": 112,
   "id": "3baae7db",
   "metadata": {},
   "outputs": [
    {
     "name": "stdout",
     "output_type": "stream",
     "text": [
      "  Country\n",
      "0  France\n"
     ]
    }
   ],
   "source": [
    "C=Dataset.iloc[:-9, :-3]\n",
    "print(C)"
   ]
  },
  {
   "cell_type": "code",
   "execution_count": 113,
   "id": "c1c92222",
   "metadata": {},
   "outputs": [
    {
     "name": "stdout",
     "output_type": "stream",
     "text": [
      "Country    Spain\n",
      "Name: 1, dtype: object\n"
     ]
    }
   ],
   "source": [
    "C=Dataset.iloc[1, :-3]\n",
    "print(C)"
   ]
  },
  {
   "cell_type": "code",
   "execution_count": 114,
   "id": "3b5595dd",
   "metadata": {},
   "outputs": [
    {
     "name": "stdout",
     "output_type": "stream",
     "text": [
      "27.0\n"
     ]
    }
   ],
   "source": [
    "C=Dataset.iloc[1, 1]\n",
    "print(C)"
   ]
  },
  {
   "cell_type": "code",
   "execution_count": 115,
   "id": "a6d45e89",
   "metadata": {},
   "outputs": [
    {
     "name": "stdout",
     "output_type": "stream",
     "text": [
      "Yes\n"
     ]
    }
   ],
   "source": [
    "C=Dataset.iloc[1, 3]\n",
    "print(C)"
   ]
  },
  {
   "cell_type": "code",
   "execution_count": 116,
   "id": "d6ea6600",
   "metadata": {},
   "outputs": [
    {
     "name": "stdout",
     "output_type": "stream",
     "text": [
      "Yes\n"
     ]
    }
   ],
   "source": [
    "C=Dataset.iloc[9, 3]\n",
    "print(C)"
   ]
  },
  {
   "cell_type": "code",
   "execution_count": 117,
   "id": "6b3bcedb",
   "metadata": {},
   "outputs": [
    {
     "name": "stdout",
     "output_type": "stream",
     "text": [
      "['No' 'Yes' 'No' 'No' 'Yes' 'Yes' 'No' 'Yes' 'No' 'Yes']\n"
     ]
    }
   ],
   "source": [
    "C=Dataset.iloc[:, 3].values\n",
    "print(C)"
   ]
  },
  {
   "cell_type": "code",
   "execution_count": 118,
   "id": "eacfb91c",
   "metadata": {},
   "outputs": [
    {
     "data": {
      "text/html": [
       "<div>\n",
       "<style scoped>\n",
       "    .dataframe tbody tr th:only-of-type {\n",
       "        vertical-align: middle;\n",
       "    }\n",
       "\n",
       "    .dataframe tbody tr th {\n",
       "        vertical-align: top;\n",
       "    }\n",
       "\n",
       "    .dataframe thead th {\n",
       "        text-align: right;\n",
       "    }\n",
       "</style>\n",
       "<table border=\"1\" class=\"dataframe\">\n",
       "  <thead>\n",
       "    <tr style=\"text-align: right;\">\n",
       "      <th></th>\n",
       "      <th>Country</th>\n",
       "      <th>Age</th>\n",
       "      <th>Salary</th>\n",
       "      <th>Purchased</th>\n",
       "    </tr>\n",
       "  </thead>\n",
       "  <tbody>\n",
       "    <tr>\n",
       "      <th>0</th>\n",
       "      <td>France</td>\n",
       "      <td>44.0</td>\n",
       "      <td>72000.0</td>\n",
       "      <td>No</td>\n",
       "    </tr>\n",
       "    <tr>\n",
       "      <th>1</th>\n",
       "      <td>Spain</td>\n",
       "      <td>27.0</td>\n",
       "      <td>48000.0</td>\n",
       "      <td>Yes</td>\n",
       "    </tr>\n",
       "    <tr>\n",
       "      <th>2</th>\n",
       "      <td>Germany</td>\n",
       "      <td>30.0</td>\n",
       "      <td>54000.0</td>\n",
       "      <td>No</td>\n",
       "    </tr>\n",
       "    <tr>\n",
       "      <th>3</th>\n",
       "      <td>Spain</td>\n",
       "      <td>38.0</td>\n",
       "      <td>61000.0</td>\n",
       "      <td>No</td>\n",
       "    </tr>\n",
       "    <tr>\n",
       "      <th>4</th>\n",
       "      <td>Germany</td>\n",
       "      <td>40.0</td>\n",
       "      <td>NaN</td>\n",
       "      <td>Yes</td>\n",
       "    </tr>\n",
       "    <tr>\n",
       "      <th>5</th>\n",
       "      <td>France</td>\n",
       "      <td>35.0</td>\n",
       "      <td>58000.0</td>\n",
       "      <td>Yes</td>\n",
       "    </tr>\n",
       "    <tr>\n",
       "      <th>6</th>\n",
       "      <td>Spain</td>\n",
       "      <td>NaN</td>\n",
       "      <td>52000.0</td>\n",
       "      <td>No</td>\n",
       "    </tr>\n",
       "    <tr>\n",
       "      <th>7</th>\n",
       "      <td>France</td>\n",
       "      <td>48.0</td>\n",
       "      <td>79000.0</td>\n",
       "      <td>Yes</td>\n",
       "    </tr>\n",
       "    <tr>\n",
       "      <th>8</th>\n",
       "      <td>Germany</td>\n",
       "      <td>50.0</td>\n",
       "      <td>83000.0</td>\n",
       "      <td>No</td>\n",
       "    </tr>\n",
       "    <tr>\n",
       "      <th>9</th>\n",
       "      <td>France</td>\n",
       "      <td>37.0</td>\n",
       "      <td>67000.0</td>\n",
       "      <td>Yes</td>\n",
       "    </tr>\n",
       "  </tbody>\n",
       "</table>\n",
       "</div>"
      ],
      "text/plain": [
       "   Country   Age   Salary Purchased\n",
       "0   France  44.0  72000.0        No\n",
       "1    Spain  27.0  48000.0       Yes\n",
       "2  Germany  30.0  54000.0        No\n",
       "3    Spain  38.0  61000.0        No\n",
       "4  Germany  40.0      NaN       Yes\n",
       "5   France  35.0  58000.0       Yes\n",
       "6    Spain   NaN  52000.0        No\n",
       "7   France  48.0  79000.0       Yes\n",
       "8  Germany  50.0  83000.0        No\n",
       "9   France  37.0  67000.0       Yes"
      ]
     },
     "execution_count": 118,
     "metadata": {},
     "output_type": "execute_result"
    }
   ],
   "source": [
    "Dataset=pd.read_csv('missing data.csv')\n",
    "Dataset.head(10)"
   ]
  },
  {
   "cell_type": "code",
   "execution_count": 119,
   "id": "9c40afc9",
   "metadata": {},
   "outputs": [
    {
     "name": "stdout",
     "output_type": "stream",
     "text": [
      "[['France' 44.0 72000.0]\n",
      " ['Spain' 27.0 48000.0]\n",
      " ['Germany' 30.0 54000.0]\n",
      " ['Spain' 38.0 61000.0]\n",
      " ['Germany' 40.0 nan]\n",
      " ['France' 35.0 58000.0]\n",
      " ['Spain' nan 52000.0]\n",
      " ['France' 48.0 79000.0]\n",
      " ['Germany' 50.0 83000.0]\n",
      " ['France' 37.0 67000.0]]\n"
     ]
    }
   ],
   "source": [
    "X=Dataset.iloc[:, :-1].values\n",
    "print(X)"
   ]
  },
  {
   "cell_type": "code",
   "execution_count": 120,
   "id": "97d135f9",
   "metadata": {},
   "outputs": [
    {
     "name": "stdout",
     "output_type": "stream",
     "text": [
      "['No' 'Yes' 'No' 'No' 'Yes' 'Yes' 'No' 'Yes' 'No' 'Yes']\n"
     ]
    }
   ],
   "source": [
    "Y=Dataset.iloc[:, 3].values\n",
    "print(Y)"
   ]
  },
  {
   "cell_type": "code",
   "execution_count": 121,
   "id": "fa324ae6",
   "metadata": {},
   "outputs": [],
   "source": [
    "from sklearn.impute import SimpleImputer\n",
    "imputer = SimpleImputer(missing_values= np.NAN, strategy= 'mean', fill_value=None, verbose=0, copy=True)\n",
    "imputer = imputer.fit(X[:, 1:3])\n",
    "X[:, 1:3] = imputer.transform(X[:, 1:3])"
   ]
  },
  {
   "cell_type": "code",
   "execution_count": 122,
   "id": "03f7d933",
   "metadata": {},
   "outputs": [
    {
     "name": "stdout",
     "output_type": "stream",
     "text": [
      "[['France' 44.0 72000.0]\n",
      " ['Spain' 27.0 48000.0]\n",
      " ['Germany' 30.0 54000.0]\n",
      " ['Spain' 38.0 61000.0]\n",
      " ['Germany' 40.0 63777.77777777778]\n",
      " ['France' 35.0 58000.0]\n",
      " ['Spain' 38.77777777777778 52000.0]\n",
      " ['France' 48.0 79000.0]\n",
      " ['Germany' 50.0 83000.0]\n",
      " ['France' 37.0 67000.0]]\n"
     ]
    }
   ],
   "source": [
    "print(X)"
   ]
  },
  {
   "cell_type": "code",
   "execution_count": 123,
   "id": "6c7fc5ac",
   "metadata": {},
   "outputs": [],
   "source": [
    "from sklearn.preprocessing import LabelEncoder, OneHotEncoder\n",
    "from sklearn.compose import ColumnTransformer\n",
    "\n",
    "labelencoder_X = LabelEncoder()\n",
    "X[:, 0] = labelencoder_X.fit_transform(X[:, 0])\n",
    "\n",
    "ct = ColumnTransformer([(\"Purchased\", OneHotEncoder(), [0])], remainder = 'passthrough')\n",
    "X = np.array(ct.fit_transform(X),dtype=np.str)\n",
    "\n",
    "\n",
    "labelencoder_Y = LabelEncoder()\n",
    "Y = labelencoder_Y.fit_transform(Y)"
   ]
  },
  {
   "cell_type": "code",
   "execution_count": 124,
   "id": "cc6a96c8",
   "metadata": {},
   "outputs": [
    {
     "name": "stdout",
     "output_type": "stream",
     "text": [
      "[0 1 0 0 1 1 0 1 0 1]\n"
     ]
    }
   ],
   "source": [
    "print(Y)"
   ]
  },
  {
   "cell_type": "code",
   "execution_count": 125,
   "id": "294f2e07",
   "metadata": {},
   "outputs": [],
   "source": [
    "from sklearn.model_selection import train_test_split\n",
    "x_train, x_test, y_train, y_test = train_test_split(X, Y, test_size=0.2, random_state=0)"
   ]
  },
  {
   "cell_type": "code",
   "execution_count": 126,
   "id": "ca2973b5",
   "metadata": {},
   "outputs": [],
   "source": [
    "from sklearn.preprocessing import StandardScaler\n",
    "sc_X = StandardScaler()\n",
    "x_train = sc_X.fit_transform(x_train)\n",
    "x_test = sc_X.transform(x_test)"
   ]
  }
 ],
 "metadata": {
  "kernelspec": {
   "display_name": "Python 3",
   "language": "python",
   "name": "python3"
  },
  "language_info": {
   "codemirror_mode": {
    "name": "ipython",
    "version": 3
   },
   "file_extension": ".py",
   "mimetype": "text/x-python",
   "name": "python",
   "nbconvert_exporter": "python",
   "pygments_lexer": "ipython3",
   "version": "3.8.8"
  }
 },
 "nbformat": 4,
 "nbformat_minor": 5
}
